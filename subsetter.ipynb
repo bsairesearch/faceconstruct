{
 "cells": [
  {
   "cell_type": "code",
   "execution_count": 1,
   "id": "da3878bb-89ba-48a6-b837-689e66c9768b",
   "metadata": {},
   "outputs": [],
   "source": [
    "import pandas as pd"
   ]
  },
  {
   "cell_type": "code",
   "execution_count": 2,
   "id": "c4b447a9-5cdb-40e4-89af-fc2bda834112",
   "metadata": {},
   "outputs": [
    {
     "data": {
      "text/html": [
       "<div>\n",
       "<style scoped>\n",
       "    .dataframe tbody tr th:only-of-type {\n",
       "        vertical-align: middle;\n",
       "    }\n",
       "\n",
       "    .dataframe tbody tr th {\n",
       "        vertical-align: top;\n",
       "    }\n",
       "\n",
       "    .dataframe thead th {\n",
       "        text-align: right;\n",
       "    }\n",
       "</style>\n",
       "<table border=\"1\" class=\"dataframe\">\n",
       "  <thead>\n",
       "    <tr style=\"text-align: right;\">\n",
       "      <th></th>\n",
       "      <th>file</th>\n",
       "      <th>age</th>\n",
       "      <th>gender</th>\n",
       "      <th>race</th>\n",
       "      <th>service_test</th>\n",
       "    </tr>\n",
       "  </thead>\n",
       "  <tbody>\n",
       "    <tr>\n",
       "      <th>0</th>\n",
       "      <td>train/1.jpg</td>\n",
       "      <td>50-59</td>\n",
       "      <td>Male</td>\n",
       "      <td>East Asian</td>\n",
       "      <td>True</td>\n",
       "    </tr>\n",
       "    <tr>\n",
       "      <th>1</th>\n",
       "      <td>train/2.jpg</td>\n",
       "      <td>30-39</td>\n",
       "      <td>Female</td>\n",
       "      <td>Indian</td>\n",
       "      <td>False</td>\n",
       "    </tr>\n",
       "    <tr>\n",
       "      <th>2</th>\n",
       "      <td>train/3.jpg</td>\n",
       "      <td>3-9</td>\n",
       "      <td>Female</td>\n",
       "      <td>Black</td>\n",
       "      <td>False</td>\n",
       "    </tr>\n",
       "    <tr>\n",
       "      <th>3</th>\n",
       "      <td>train/4.jpg</td>\n",
       "      <td>20-29</td>\n",
       "      <td>Female</td>\n",
       "      <td>Indian</td>\n",
       "      <td>True</td>\n",
       "    </tr>\n",
       "    <tr>\n",
       "      <th>4</th>\n",
       "      <td>train/5.jpg</td>\n",
       "      <td>20-29</td>\n",
       "      <td>Female</td>\n",
       "      <td>Indian</td>\n",
       "      <td>True</td>\n",
       "    </tr>\n",
       "    <tr>\n",
       "      <th>...</th>\n",
       "      <td>...</td>\n",
       "      <td>...</td>\n",
       "      <td>...</td>\n",
       "      <td>...</td>\n",
       "      <td>...</td>\n",
       "    </tr>\n",
       "    <tr>\n",
       "      <th>86739</th>\n",
       "      <td>train/86740.jpg</td>\n",
       "      <td>20-29</td>\n",
       "      <td>Male</td>\n",
       "      <td>Indian</td>\n",
       "      <td>True</td>\n",
       "    </tr>\n",
       "    <tr>\n",
       "      <th>86740</th>\n",
       "      <td>train/86741.jpg</td>\n",
       "      <td>10-19</td>\n",
       "      <td>Male</td>\n",
       "      <td>Indian</td>\n",
       "      <td>True</td>\n",
       "    </tr>\n",
       "    <tr>\n",
       "      <th>86741</th>\n",
       "      <td>train/86742.jpg</td>\n",
       "      <td>more than 70</td>\n",
       "      <td>Female</td>\n",
       "      <td>Indian</td>\n",
       "      <td>True</td>\n",
       "    </tr>\n",
       "    <tr>\n",
       "      <th>86742</th>\n",
       "      <td>train/86743.jpg</td>\n",
       "      <td>10-19</td>\n",
       "      <td>Female</td>\n",
       "      <td>Black</td>\n",
       "      <td>True</td>\n",
       "    </tr>\n",
       "    <tr>\n",
       "      <th>86743</th>\n",
       "      <td>train/86744.jpg</td>\n",
       "      <td>40-49</td>\n",
       "      <td>Male</td>\n",
       "      <td>White</td>\n",
       "      <td>False</td>\n",
       "    </tr>\n",
       "  </tbody>\n",
       "</table>\n",
       "<p>86744 rows × 5 columns</p>\n",
       "</div>"
      ],
      "text/plain": [
       "                  file           age  gender        race  service_test\n",
       "0          train/1.jpg         50-59    Male  East Asian          True\n",
       "1          train/2.jpg         30-39  Female      Indian         False\n",
       "2          train/3.jpg           3-9  Female       Black         False\n",
       "3          train/4.jpg         20-29  Female      Indian          True\n",
       "4          train/5.jpg         20-29  Female      Indian          True\n",
       "...                ...           ...     ...         ...           ...\n",
       "86739  train/86740.jpg         20-29    Male      Indian          True\n",
       "86740  train/86741.jpg         10-19    Male      Indian          True\n",
       "86741  train/86742.jpg  more than 70  Female      Indian          True\n",
       "86742  train/86743.jpg         10-19  Female       Black          True\n",
       "86743  train/86744.jpg         40-49    Male       White         False\n",
       "\n",
       "[86744 rows x 5 columns]"
      ]
     },
     "execution_count": 2,
     "metadata": {},
     "output_type": "execute_result"
    }
   ],
   "source": [
    "df = pd.read_csv('./fairface_label_train.csv')\n",
    "df"
   ]
  },
  {
   "cell_type": "code",
   "execution_count": 14,
   "id": "d75fa5b4-1e04-4c73-b996-77dbf42fa1f7",
   "metadata": {},
   "outputs": [],
   "source": [
    "age_list = df['age'].unique().tolist()"
   ]
  },
  {
   "cell_type": "code",
   "execution_count": 24,
   "id": "dba2366b-ab44-43df-9e18-0cdfd7b5067a",
   "metadata": {},
   "outputs": [
    {
     "data": {
      "text/plain": [
       "['0-2',\n",
       " '10-19',\n",
       " '20-29',\n",
       " '3-9',\n",
       " '30-39',\n",
       " '40-49',\n",
       " '50-59',\n",
       " '60-69',\n",
       " 'more than 70']"
      ]
     },
     "execution_count": 24,
     "metadata": {},
     "output_type": "execute_result"
    }
   ],
   "source": [
    "sorted(age_list)"
   ]
  },
  {
   "cell_type": "code",
   "execution_count": 13,
   "id": "a0926b2a-9bda-470b-97ee-59be6f7c1553",
   "metadata": {},
   "outputs": [],
   "source": [
    "gender_list = df['gender'].unique().tolist()"
   ]
  },
  {
   "cell_type": "code",
   "execution_count": 25,
   "id": "d9a9afd3-d87b-4a21-a9ef-601fbb20207d",
   "metadata": {},
   "outputs": [
    {
     "data": {
      "text/plain": [
       "['Black',\n",
       " 'East Asian',\n",
       " 'Indian',\n",
       " 'Latino_Hispanic',\n",
       " 'Middle Eastern',\n",
       " 'Southeast Asian',\n",
       " 'White']"
      ]
     },
     "execution_count": 25,
     "metadata": {},
     "output_type": "execute_result"
    }
   ],
   "source": [
    "race_list = df['race'].unique().tolist()\n",
    "sorted(race_list)"
   ]
  },
  {
   "cell_type": "code",
   "execution_count": 18,
   "id": "2184bb0d-4da2-4126-9b45-244c3dbe6791",
   "metadata": {},
   "outputs": [],
   "source": [
    "\n",
    "agr=[]\n",
    "for age in age_list:\n",
    "    for gender in gender_list:\n",
    "        for race in race_list:\n",
    "            agr.append([age, gender,race])"
   ]
  },
  {
   "cell_type": "raw",
   "id": "368ca99f-5620-4d59-8e8b-971537aefb4d",
   "metadata": {},
   "source": [
    "len(agr)"
   ]
  },
  {
   "cell_type": "code",
   "execution_count": 19,
   "id": "15a87db5-bae6-4c94-805a-7ebc67c23b72",
   "metadata": {},
   "outputs": [
    {
     "data": {
      "text/plain": [
       "126"
      ]
     },
     "execution_count": 19,
     "metadata": {},
     "output_type": "execute_result"
    }
   ],
   "source": [
    "len(agr)"
   ]
  },
  {
   "cell_type": "code",
   "execution_count": 20,
   "id": "8bf76a4f-10c3-4817-b35a-cce7e380a953",
   "metadata": {},
   "outputs": [
    {
     "data": {
      "text/plain": [
       "[['50-59', 'Male', 'East Asian'],\n",
       " ['50-59', 'Male', 'Indian'],\n",
       " ['50-59', 'Male', 'Black'],\n",
       " ['50-59', 'Male', 'White'],\n",
       " ['50-59', 'Male', 'Middle Eastern'],\n",
       " ['50-59', 'Male', 'Latino_Hispanic'],\n",
       " ['50-59', 'Male', 'Southeast Asian'],\n",
       " ['50-59', 'Female', 'East Asian'],\n",
       " ['50-59', 'Female', 'Indian'],\n",
       " ['50-59', 'Female', 'Black'],\n",
       " ['50-59', 'Female', 'White'],\n",
       " ['50-59', 'Female', 'Middle Eastern'],\n",
       " ['50-59', 'Female', 'Latino_Hispanic'],\n",
       " ['50-59', 'Female', 'Southeast Asian'],\n",
       " ['30-39', 'Male', 'East Asian'],\n",
       " ['30-39', 'Male', 'Indian'],\n",
       " ['30-39', 'Male', 'Black'],\n",
       " ['30-39', 'Male', 'White'],\n",
       " ['30-39', 'Male', 'Middle Eastern'],\n",
       " ['30-39', 'Male', 'Latino_Hispanic'],\n",
       " ['30-39', 'Male', 'Southeast Asian'],\n",
       " ['30-39', 'Female', 'East Asian'],\n",
       " ['30-39', 'Female', 'Indian'],\n",
       " ['30-39', 'Female', 'Black'],\n",
       " ['30-39', 'Female', 'White'],\n",
       " ['30-39', 'Female', 'Middle Eastern'],\n",
       " ['30-39', 'Female', 'Latino_Hispanic'],\n",
       " ['30-39', 'Female', 'Southeast Asian'],\n",
       " ['3-9', 'Male', 'East Asian'],\n",
       " ['3-9', 'Male', 'Indian'],\n",
       " ['3-9', 'Male', 'Black'],\n",
       " ['3-9', 'Male', 'White'],\n",
       " ['3-9', 'Male', 'Middle Eastern'],\n",
       " ['3-9', 'Male', 'Latino_Hispanic'],\n",
       " ['3-9', 'Male', 'Southeast Asian'],\n",
       " ['3-9', 'Female', 'East Asian'],\n",
       " ['3-9', 'Female', 'Indian'],\n",
       " ['3-9', 'Female', 'Black'],\n",
       " ['3-9', 'Female', 'White'],\n",
       " ['3-9', 'Female', 'Middle Eastern'],\n",
       " ['3-9', 'Female', 'Latino_Hispanic'],\n",
       " ['3-9', 'Female', 'Southeast Asian'],\n",
       " ['20-29', 'Male', 'East Asian'],\n",
       " ['20-29', 'Male', 'Indian'],\n",
       " ['20-29', 'Male', 'Black'],\n",
       " ['20-29', 'Male', 'White'],\n",
       " ['20-29', 'Male', 'Middle Eastern'],\n",
       " ['20-29', 'Male', 'Latino_Hispanic'],\n",
       " ['20-29', 'Male', 'Southeast Asian'],\n",
       " ['20-29', 'Female', 'East Asian'],\n",
       " ['20-29', 'Female', 'Indian'],\n",
       " ['20-29', 'Female', 'Black'],\n",
       " ['20-29', 'Female', 'White'],\n",
       " ['20-29', 'Female', 'Middle Eastern'],\n",
       " ['20-29', 'Female', 'Latino_Hispanic'],\n",
       " ['20-29', 'Female', 'Southeast Asian'],\n",
       " ['40-49', 'Male', 'East Asian'],\n",
       " ['40-49', 'Male', 'Indian'],\n",
       " ['40-49', 'Male', 'Black'],\n",
       " ['40-49', 'Male', 'White'],\n",
       " ['40-49', 'Male', 'Middle Eastern'],\n",
       " ['40-49', 'Male', 'Latino_Hispanic'],\n",
       " ['40-49', 'Male', 'Southeast Asian'],\n",
       " ['40-49', 'Female', 'East Asian'],\n",
       " ['40-49', 'Female', 'Indian'],\n",
       " ['40-49', 'Female', 'Black'],\n",
       " ['40-49', 'Female', 'White'],\n",
       " ['40-49', 'Female', 'Middle Eastern'],\n",
       " ['40-49', 'Female', 'Latino_Hispanic'],\n",
       " ['40-49', 'Female', 'Southeast Asian'],\n",
       " ['10-19', 'Male', 'East Asian'],\n",
       " ['10-19', 'Male', 'Indian'],\n",
       " ['10-19', 'Male', 'Black'],\n",
       " ['10-19', 'Male', 'White'],\n",
       " ['10-19', 'Male', 'Middle Eastern'],\n",
       " ['10-19', 'Male', 'Latino_Hispanic'],\n",
       " ['10-19', 'Male', 'Southeast Asian'],\n",
       " ['10-19', 'Female', 'East Asian'],\n",
       " ['10-19', 'Female', 'Indian'],\n",
       " ['10-19', 'Female', 'Black'],\n",
       " ['10-19', 'Female', 'White'],\n",
       " ['10-19', 'Female', 'Middle Eastern'],\n",
       " ['10-19', 'Female', 'Latino_Hispanic'],\n",
       " ['10-19', 'Female', 'Southeast Asian'],\n",
       " ['60-69', 'Male', 'East Asian'],\n",
       " ['60-69', 'Male', 'Indian'],\n",
       " ['60-69', 'Male', 'Black'],\n",
       " ['60-69', 'Male', 'White'],\n",
       " ['60-69', 'Male', 'Middle Eastern'],\n",
       " ['60-69', 'Male', 'Latino_Hispanic'],\n",
       " ['60-69', 'Male', 'Southeast Asian'],\n",
       " ['60-69', 'Female', 'East Asian'],\n",
       " ['60-69', 'Female', 'Indian'],\n",
       " ['60-69', 'Female', 'Black'],\n",
       " ['60-69', 'Female', 'White'],\n",
       " ['60-69', 'Female', 'Middle Eastern'],\n",
       " ['60-69', 'Female', 'Latino_Hispanic'],\n",
       " ['60-69', 'Female', 'Southeast Asian'],\n",
       " ['0-2', 'Male', 'East Asian'],\n",
       " ['0-2', 'Male', 'Indian'],\n",
       " ['0-2', 'Male', 'Black'],\n",
       " ['0-2', 'Male', 'White'],\n",
       " ['0-2', 'Male', 'Middle Eastern'],\n",
       " ['0-2', 'Male', 'Latino_Hispanic'],\n",
       " ['0-2', 'Male', 'Southeast Asian'],\n",
       " ['0-2', 'Female', 'East Asian'],\n",
       " ['0-2', 'Female', 'Indian'],\n",
       " ['0-2', 'Female', 'Black'],\n",
       " ['0-2', 'Female', 'White'],\n",
       " ['0-2', 'Female', 'Middle Eastern'],\n",
       " ['0-2', 'Female', 'Latino_Hispanic'],\n",
       " ['0-2', 'Female', 'Southeast Asian'],\n",
       " ['more than 70', 'Male', 'East Asian'],\n",
       " ['more than 70', 'Male', 'Indian'],\n",
       " ['more than 70', 'Male', 'Black'],\n",
       " ['more than 70', 'Male', 'White'],\n",
       " ['more than 70', 'Male', 'Middle Eastern'],\n",
       " ['more than 70', 'Male', 'Latino_Hispanic'],\n",
       " ['more than 70', 'Male', 'Southeast Asian'],\n",
       " ['more than 70', 'Female', 'East Asian'],\n",
       " ['more than 70', 'Female', 'Indian'],\n",
       " ['more than 70', 'Female', 'Black'],\n",
       " ['more than 70', 'Female', 'White'],\n",
       " ['more than 70', 'Female', 'Middle Eastern'],\n",
       " ['more than 70', 'Female', 'Latino_Hispanic'],\n",
       " ['more than 70', 'Female', 'Southeast Asian']]"
      ]
     },
     "execution_count": 20,
     "metadata": {},
     "output_type": "execute_result"
    }
   ],
   "source": [
    "agr"
   ]
  },
  {
   "cell_type": "code",
   "execution_count": 35,
   "id": "91125418-a3d6-4ddb-888b-4ae3b9c3ffd5",
   "metadata": {},
   "outputs": [
    {
     "data": {
      "text/plain": [
       "'50-59'"
      ]
     },
     "execution_count": 35,
     "metadata": {},
     "output_type": "execute_result"
    }
   ],
   "source": [
    "agr[0][0]"
   ]
  },
  {
   "cell_type": "code",
   "execution_count": 45,
   "id": "5a7ade5f-27a4-4127-96e2-23ed1e3ba726",
   "metadata": {},
   "outputs": [
    {
     "data": {
      "text/html": [
       "<div>\n",
       "<style scoped>\n",
       "    .dataframe tbody tr th:only-of-type {\n",
       "        vertical-align: middle;\n",
       "    }\n",
       "\n",
       "    .dataframe tbody tr th {\n",
       "        vertical-align: top;\n",
       "    }\n",
       "\n",
       "    .dataframe thead th {\n",
       "        text-align: right;\n",
       "    }\n",
       "</style>\n",
       "<table border=\"1\" class=\"dataframe\">\n",
       "  <thead>\n",
       "    <tr style=\"text-align: right;\">\n",
       "      <th></th>\n",
       "      <th>file</th>\n",
       "      <th>age</th>\n",
       "      <th>gender</th>\n",
       "      <th>race</th>\n",
       "      <th>service_test</th>\n",
       "    </tr>\n",
       "  </thead>\n",
       "  <tbody>\n",
       "    <tr>\n",
       "      <th>1</th>\n",
       "      <td>train/2.jpg</td>\n",
       "      <td>30-39</td>\n",
       "      <td>Female</td>\n",
       "      <td>Indian</td>\n",
       "      <td>False</td>\n",
       "    </tr>\n",
       "    <tr>\n",
       "      <th>2</th>\n",
       "      <td>train/3.jpg</td>\n",
       "      <td>3-9</td>\n",
       "      <td>Female</td>\n",
       "      <td>Black</td>\n",
       "      <td>False</td>\n",
       "    </tr>\n",
       "    <tr>\n",
       "      <th>3</th>\n",
       "      <td>train/4.jpg</td>\n",
       "      <td>20-29</td>\n",
       "      <td>Female</td>\n",
       "      <td>Indian</td>\n",
       "      <td>True</td>\n",
       "    </tr>\n",
       "    <tr>\n",
       "      <th>4</th>\n",
       "      <td>train/5.jpg</td>\n",
       "      <td>20-29</td>\n",
       "      <td>Female</td>\n",
       "      <td>Indian</td>\n",
       "      <td>True</td>\n",
       "    </tr>\n",
       "    <tr>\n",
       "      <th>7</th>\n",
       "      <td>train/8.jpg</td>\n",
       "      <td>30-39</td>\n",
       "      <td>Female</td>\n",
       "      <td>Indian</td>\n",
       "      <td>True</td>\n",
       "    </tr>\n",
       "    <tr>\n",
       "      <th>...</th>\n",
       "      <td>...</td>\n",
       "      <td>...</td>\n",
       "      <td>...</td>\n",
       "      <td>...</td>\n",
       "      <td>...</td>\n",
       "    </tr>\n",
       "    <tr>\n",
       "      <th>86731</th>\n",
       "      <td>train/86732.jpg</td>\n",
       "      <td>20-29</td>\n",
       "      <td>Female</td>\n",
       "      <td>Latino_Hispanic</td>\n",
       "      <td>False</td>\n",
       "    </tr>\n",
       "    <tr>\n",
       "      <th>86732</th>\n",
       "      <td>train/86733.jpg</td>\n",
       "      <td>40-49</td>\n",
       "      <td>Female</td>\n",
       "      <td>White</td>\n",
       "      <td>False</td>\n",
       "    </tr>\n",
       "    <tr>\n",
       "      <th>86734</th>\n",
       "      <td>train/86735.jpg</td>\n",
       "      <td>10-19</td>\n",
       "      <td>Female</td>\n",
       "      <td>Indian</td>\n",
       "      <td>True</td>\n",
       "    </tr>\n",
       "    <tr>\n",
       "      <th>86741</th>\n",
       "      <td>train/86742.jpg</td>\n",
       "      <td>more than 70</td>\n",
       "      <td>Female</td>\n",
       "      <td>Indian</td>\n",
       "      <td>True</td>\n",
       "    </tr>\n",
       "    <tr>\n",
       "      <th>86742</th>\n",
       "      <td>train/86743.jpg</td>\n",
       "      <td>10-19</td>\n",
       "      <td>Female</td>\n",
       "      <td>Black</td>\n",
       "      <td>True</td>\n",
       "    </tr>\n",
       "  </tbody>\n",
       "</table>\n",
       "<p>40758 rows × 5 columns</p>\n",
       "</div>"
      ],
      "text/plain": [
       "                  file           age  gender             race  service_test\n",
       "1          train/2.jpg         30-39  Female           Indian         False\n",
       "2          train/3.jpg           3-9  Female            Black         False\n",
       "3          train/4.jpg         20-29  Female           Indian          True\n",
       "4          train/5.jpg         20-29  Female           Indian          True\n",
       "7          train/8.jpg         30-39  Female           Indian          True\n",
       "...                ...           ...     ...              ...           ...\n",
       "86731  train/86732.jpg         20-29  Female  Latino_Hispanic         False\n",
       "86732  train/86733.jpg         40-49  Female            White         False\n",
       "86734  train/86735.jpg         10-19  Female           Indian          True\n",
       "86741  train/86742.jpg  more than 70  Female           Indian          True\n",
       "86742  train/86743.jpg         10-19  Female            Black          True\n",
       "\n",
       "[40758 rows x 5 columns]"
      ]
     },
     "execution_count": 45,
     "metadata": {},
     "output_type": "execute_result"
    }
   ],
   "source": [
    "df.query(\"gender == 'Female'\")\n",
    "\n",
    "#dataFrame.query('Salary  <= 100000 & Age < 40 & JOB.str.startswith(\"C\").values')"
   ]
  },
  {
   "cell_type": "code",
   "execution_count": 63,
   "id": "4133516a-e961-4fa3-a64f-d8699280e650",
   "metadata": {},
   "outputs": [
    {
     "data": {
      "text/html": [
       "<div>\n",
       "<style scoped>\n",
       "    .dataframe tbody tr th:only-of-type {\n",
       "        vertical-align: middle;\n",
       "    }\n",
       "\n",
       "    .dataframe tbody tr th {\n",
       "        vertical-align: top;\n",
       "    }\n",
       "\n",
       "    .dataframe thead th {\n",
       "        text-align: right;\n",
       "    }\n",
       "</style>\n",
       "<table border=\"1\" class=\"dataframe\">\n",
       "  <thead>\n",
       "    <tr style=\"text-align: right;\">\n",
       "      <th></th>\n",
       "    </tr>\n",
       "  </thead>\n",
       "  <tbody>\n",
       "  </tbody>\n",
       "</table>\n",
       "</div>"
      ],
      "text/plain": [
       "Empty DataFrame\n",
       "Columns: []\n",
       "Index: []"
      ]
     },
     "execution_count": 63,
     "metadata": {},
     "output_type": "execute_result"
    }
   ],
   "source": [
    "df2 = pd.DataFrame()\n",
    "df2"
   ]
  },
  {
   "cell_type": "code",
   "execution_count": 65,
   "id": "674e29d6-a495-4de3-84b3-f297efa4c090",
   "metadata": {},
   "outputs": [
    {
     "data": {
      "text/html": [
       "<div>\n",
       "<style scoped>\n",
       "    .dataframe tbody tr th:only-of-type {\n",
       "        vertical-align: middle;\n",
       "    }\n",
       "\n",
       "    .dataframe tbody tr th {\n",
       "        vertical-align: top;\n",
       "    }\n",
       "\n",
       "    .dataframe thead th {\n",
       "        text-align: right;\n",
       "    }\n",
       "</style>\n",
       "<table border=\"1\" class=\"dataframe\">\n",
       "  <thead>\n",
       "    <tr style=\"text-align: right;\">\n",
       "      <th></th>\n",
       "      <th>file</th>\n",
       "      <th>age</th>\n",
       "      <th>gender</th>\n",
       "      <th>race</th>\n",
       "      <th>service_test</th>\n",
       "    </tr>\n",
       "  </thead>\n",
       "  <tbody>\n",
       "    <tr>\n",
       "      <th>0</th>\n",
       "      <td>train/1.jpg</td>\n",
       "      <td>50-59</td>\n",
       "      <td>Male</td>\n",
       "      <td>East Asian</td>\n",
       "      <td>True</td>\n",
       "    </tr>\n",
       "    <tr>\n",
       "      <th>10</th>\n",
       "      <td>train/11.jpg</td>\n",
       "      <td>50-59</td>\n",
       "      <td>Male</td>\n",
       "      <td>East Asian</td>\n",
       "      <td>True</td>\n",
       "    </tr>\n",
       "    <tr>\n",
       "      <th>104</th>\n",
       "      <td>train/105.jpg</td>\n",
       "      <td>50-59</td>\n",
       "      <td>Male</td>\n",
       "      <td>East Asian</td>\n",
       "      <td>False</td>\n",
       "    </tr>\n",
       "    <tr>\n",
       "      <th>352</th>\n",
       "      <td>train/353.jpg</td>\n",
       "      <td>50-59</td>\n",
       "      <td>Male</td>\n",
       "      <td>East Asian</td>\n",
       "      <td>True</td>\n",
       "    </tr>\n",
       "    <tr>\n",
       "      <th>397</th>\n",
       "      <td>train/398.jpg</td>\n",
       "      <td>50-59</td>\n",
       "      <td>Male</td>\n",
       "      <td>East Asian</td>\n",
       "      <td>True</td>\n",
       "    </tr>\n",
       "  </tbody>\n",
       "</table>\n",
       "</div>"
      ],
      "text/plain": [
       "              file    age gender        race  service_test\n",
       "0      train/1.jpg  50-59   Male  East Asian          True\n",
       "10    train/11.jpg  50-59   Male  East Asian          True\n",
       "104  train/105.jpg  50-59   Male  East Asian         False\n",
       "352  train/353.jpg  50-59   Male  East Asian          True\n",
       "397  train/398.jpg  50-59   Male  East Asian          True"
      ]
     },
     "execution_count": 65,
     "metadata": {},
     "output_type": "execute_result"
    }
   ],
   "source": [
    "for i in range(len(agr)):\n",
    "    df2 = df2.append((df.loc[(df['age'] == agr[i][0]) & (df['gender'] == agr[i][1]) & (df['race'] == agr[i][2])].head(20)))\n",
    "\n",
    "df2.head()\n"
   ]
  },
  {
   "cell_type": "code",
   "execution_count": 67,
   "id": "01e93bd7-a0d7-42eb-88a2-538fc398b82f",
   "metadata": {},
   "outputs": [
    {
     "data": {
      "text/plain": [
       "2520"
      ]
     },
     "execution_count": 67,
     "metadata": {},
     "output_type": "execute_result"
    }
   ],
   "source": [
    "len(df2)"
   ]
  },
  {
   "cell_type": "code",
   "execution_count": 87,
   "id": "461a04ca-568f-4a4d-91f9-2e8fdd27b4de",
   "metadata": {},
   "outputs": [
    {
     "data": {
      "text/plain": [
       "'more_than_70/East_Asian'"
      ]
     },
     "execution_count": 87,
     "metadata": {},
     "output_type": "execute_result"
    }
   ],
   "source": [
    "d = 'more than 70/East Asian'\n",
    "d.replace(\" \",'_')\n",
    "\n",
    "r = \"train/1.jpg\"\n",
    "r.subset()\n"
   ]
  },
  {
   "cell_type": "code",
   "execution_count": 102,
   "id": "9f8368c1-6834-428b-89df-a16c3d81b021",
   "metadata": {},
   "outputs": [],
   "source": [
    "import os\n",
    "import os.path\n",
    "\n",
    "import shutil\n",
    "\n",
    "def copy_ffile_subset(row):\n",
    "    srcdir = './archive/'\n",
    "    desdir = './subset/'\n",
    "    \n",
    "    train_or_test = row[0].split('/')\n",
    "    d = desdir + row[3] + '/' + row[2] + '/' + row[1] + '/' + train_or_test[0] + \"/\"\n",
    "    if not os.path.exists(d):\n",
    "        os.makedirs(d)\n",
    "    #print(str(row))\n",
    "    src = srcdir + row[0]\n",
    "    dst = d + train_or_test[1]\n",
    "    \n",
    "    #print(dst) \n",
    "    shutil.copyfile(src, dst)\n",
    "\n",
    "\n"
   ]
  },
  {
   "cell_type": "code",
   "execution_count": 103,
   "id": "6e6c4b89-eccb-4cf8-8204-df74e2cb8cb0",
   "metadata": {},
   "outputs": [
    {
     "data": {
      "text/plain": [
       "0        None\n",
       "10       None\n",
       "104      None\n",
       "352      None\n",
       "397      None\n",
       "         ... \n",
       "11125    None\n",
       "12271    None\n",
       "12459    None\n",
       "12632    None\n",
       "13713    None\n",
       "Length: 2520, dtype: object"
      ]
     },
     "execution_count": 103,
     "metadata": {},
     "output_type": "execute_result"
    }
   ],
   "source": [
    "df2.apply(copy_ffile_subset, axis=1 )"
   ]
  },
  {
   "cell_type": "code",
   "execution_count": null,
   "id": "1059279b-fb31-4b55-9065-52bd18f169bf",
   "metadata": {},
   "outputs": [],
   "source": []
  }
 ],
 "metadata": {
  "kernelspec": {
   "display_name": "Python 3 (ipykernel)",
   "language": "python",
   "name": "python3"
  },
  "language_info": {
   "codemirror_mode": {
    "name": "ipython",
    "version": 3
   },
   "file_extension": ".py",
   "mimetype": "text/x-python",
   "name": "python",
   "nbconvert_exporter": "python",
   "pygments_lexer": "ipython3",
   "version": "3.9.7"
  }
 },
 "nbformat": 4,
 "nbformat_minor": 5
}
